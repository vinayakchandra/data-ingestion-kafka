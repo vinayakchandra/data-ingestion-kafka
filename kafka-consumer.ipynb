{
 "cells": [
  {
   "cell_type": "code",
   "id": "5482d55d16bf8bad",
   "metadata": {},
   "source": [
    "from json import loads\n",
    "\n",
    "from kafka.consumer import KafkaConsumer"
   ],
   "outputs": [],
   "execution_count": null
  },
  {
   "cell_type": "code",
   "id": "9473f873671f6e9",
   "metadata": {},
   "source": [
    "consumer = KafkaConsumer(\n",
    "    \"demo_test\",\n",
    "    bootstrap_servers=\"localhost:9092\",\n",
    "    value_deserializer=lambda x: loads(x.decode('utf-8'))\n",
    ")\n"
   ],
   "outputs": [],
   "execution_count": null
  },
  {
   "cell_type": "code",
   "id": "394d5c2da1706d9b",
   "metadata": {},
   "source": [
    "for c in consumer:\n",
    "    print(c.value)  # {\"\": }"
   ],
   "outputs": [],
   "execution_count": null
  },
  {
   "cell_type": "code",
   "id": "c000f635d3baafb1",
   "metadata": {},
   "source": [
    "import pymongo\n",
    "\n",
    "myclient = pymongo.MongoClient(\"mongodb://localhost:27017/\")\n",
    "mydb = myclient[\"mydatabase\"]\n",
    "mycol = mydb[\"customers\"]\n",
    "\n",
    "mydict = {\"name\": \"John\", \"address\": \"Highway 37\"}\n",
    "\n",
    "x = mycol.insert_one(mydict)\n",
    "# print(x)"
   ],
   "outputs": [],
   "execution_count": null
  },
  {
   "metadata": {},
   "cell_type": "code",
   "source": [
    "for count, i in enumerate(consumer):\n",
    "    print(count)\n",
    "    print()\n",
    "    x = mycol.insert_one(i.value)\n",
    "    # print(x)\n"
   ],
   "id": "a3b1eb50bc1d5226",
   "outputs": [],
   "execution_count": null
  }
 ],
 "metadata": {
  "kernelspec": {
   "display_name": "Python 3 (ipykernel)",
   "language": "python",
   "name": "python3"
  },
  "language_info": {
   "codemirror_mode": {
    "name": "ipython",
    "version": 3
   },
   "file_extension": ".py",
   "mimetype": "text/x-python",
   "name": "python",
   "nbconvert_exporter": "python",
   "pygments_lexer": "ipython3",
   "version": "3.12.4"
  }
 },
 "nbformat": 4,
 "nbformat_minor": 5
}
